{
 "cells": [
  {
   "cell_type": "code",
   "execution_count": 2,
   "metadata": {},
   "outputs": [],
   "source": [
    "import numpy as np\n",
    "import seaborn as sns\n",
    "import matplotlib.pyplot as plt\n",
    "from matplotlib import tri, cm\n",
    "import meshio\n",
    "from tqdm import tqdm"
   ]
  },
  {
   "attachments": {},
   "cell_type": "markdown",
   "metadata": {},
   "source": [
    "Definições Geométricas"
   ]
  },
  {
   "cell_type": "code",
   "execution_count": 4,
   "metadata": {},
   "outputs": [
    {
     "name": "stdout",
     "output_type": "stream",
     "text": [
      "\n"
     ]
    }
   ],
   "source": [
    "msh = meshio.read('./mesh/new_cube.msh')\n",
    "\n",
    "X = msh.points[:,0]\n",
    "Y = msh.points[:,1]\n",
    "Z = msh.points[:,2]"
   ]
  },
  {
   "cell_type": "code",
   "execution_count": 5,
   "metadata": {},
   "outputs": [],
   "source": [
    "IEN = np.array([])\n",
    "IENBound = np.array([])\n",
    "\n",
    "for cellBlock in msh.cells:\n",
    "    if cellBlock.type == 'triangle':\n",
    "        if IENBound.shape == (0,):\n",
    "            IENBound = cellBlock.data\n",
    "        else:\n",
    "            IENBound = np.concatenate([IENBound, cellBlock.data])\n",
    "    elif cellBlock.type == 'tetra':\n",
    "        if IEN.shape == (0,):\n",
    "            IEN = cellBlock.data\n",
    "        else:\n",
    "            IEN = np.concatenate([IEN, cellBlock.data])"
   ]
  },
  {
   "cell_type": "code",
   "execution_count": 6,
   "metadata": {},
   "outputs": [],
   "source": [
    "Npoints = len(X)\n",
    "ne = IEN.shape[0]"
   ]
  },
  {
   "cell_type": "code",
   "execution_count": null,
   "metadata": {},
   "outputs": [],
   "source": [
    "# IENboundTypeElem = list(msh.cell_data['gmsh:physical'][0] - 1)\n",
    "# boundNames = list(msh.field_data.keys())\n",
    "# IENboundElem = [boundNames[elem] for elem in IENboundTypeElem]\n",
    "# npoints = len(X)\n",
    "# ne = IEN.shape[0]"
   ]
  },
  {
   "cell_type": "code",
   "execution_count": null,
   "metadata": {},
   "outputs": [],
   "source": [
    "# # cria lista de nos do contorno\n",
    "# cc = np.unique(IENbound.reshape(IENbound.size))\n",
    "# ccName = [[] for i in range( len(X) )]\n",
    "# for elem in range(0,len(IENbound)):\n",
    "#  ccName[ IENbound[elem][0] ] = IENboundElem[elem]\n",
    "#  ccName[ IENbound[elem][1] ] = IENboundElem[elem]\n",
    "#  ccName[ IENbound[elem][2] ] = IENboundElem[elem]\n",
    "# # plot malha e pontos de contorno (export para vtk)\n",
    "# meshio.write_points_cells('malha.vtk',\n",
    "#  msh.points,\n",
    "#  msh.cells,)"
   ]
  },
  {
   "cell_type": "code",
   "execution_count": 7,
   "metadata": {},
   "outputs": [],
   "source": [
    "cc = np.unique(IENBound.reshape(IENBound.size))\n",
    "meshio.write_points_cells('./mesh/new_cube.vtk',\n",
    " msh.points,\n",
    " msh.cells,)"
   ]
  },
  {
   "attachments": {},
   "cell_type": "markdown",
   "metadata": {},
   "source": [
    "Definições do material"
   ]
  },
  {
   "cell_type": "code",
   "execution_count": 8,
   "metadata": {},
   "outputs": [],
   "source": [
    "rho = 1\n",
    "cv = 1\n",
    "alpha = 1\n",
    "\n",
    "kappa = [1, 1, 1] # kx, ky, kz\n",
    "\n",
    "Q = -6*rho*cv"
   ]
  },
  {
   "cell_type": "code",
   "execution_count": 10,
   "metadata": {},
   "outputs": [],
   "source": [
    "#form functions for 2D\n",
    "def IENfunc3DTet(K, M, IEN):\n",
    "    for IENelem in tqdm(IEN):\n",
    "        tet_matrix = np.array([[1, X[IENelem[i]], Y[IENelem[i]] , Z[IENelem[i]]] for i in range(4)])\n",
    "        tet_volume = np.linalg.det(tet_matrix)/6\n",
    "\n",
    "        melem = (tet_volume/20)*np.array(([2, 1, 1, 1],\n",
    "                                          [1, 2, 1, 1],\n",
    "                                          [1, 1, 2, 1],\n",
    "                                          [1, 1, 1, 2]))\n",
    "        \n",
    "        [a_list, b_list, c_list, d_list] = np.linalg.inv(tet_matrix)\n",
    "        \n",
    "        kxelem = kappa[0]*tet_volume*np.array([[b_list[i]*b_list[j] for i in range(4)] for j in range(4)])\n",
    "        kyelem = kappa[1]*tet_volume*np.array([[c_list[i]*c_list[j] for i in range(4)] for j in range(4)])\n",
    "        kzelem = kappa[2]*tet_volume*np.array([[d_list[i]*d_list[j] for i in range(4)] for j in range(4)])\n",
    "\n",
    "        kelem = kxelem + kyelem + kzelem\n",
    "\n",
    "        for ilocal in range(4):\n",
    "            iglobal = IENelem[ilocal]\n",
    "\n",
    "            for jlocal in range(4):\n",
    "                jglobal = IENelem[jlocal]\n",
    "\n",
    "                K[iglobal,jglobal] += kelem[ilocal,jlocal]\n",
    "                M[iglobal,jglobal] += melem[ilocal,jlocal]"
   ]
  },
  {
   "cell_type": "code",
   "execution_count": 11,
   "metadata": {},
   "outputs": [
    {
     "name": "stderr",
     "output_type": "stream",
     "text": [
      "100%|██████████| 70464/70464 [00:03<00:00, 17618.41it/s]\n"
     ]
    }
   ],
   "source": [
    "K  = np.zeros((Npoints, Npoints), dtype = float) \n",
    "M  = np.zeros((Npoints, Npoints), dtype = float)\n",
    "\n",
    "IENfunc3DTet(K, M, IEN)"
   ]
  },
  {
   "cell_type": "code",
   "execution_count": 12,
   "metadata": {},
   "outputs": [],
   "source": [
    "qvec = np.full(Npoints, Q/(rho*cv))\n",
    "\n",
    "A = K.copy()\n",
    "b = M@qvec"
   ]
  },
  {
   "cell_type": "code",
   "execution_count": 13,
   "metadata": {},
   "outputs": [],
   "source": [
    "# Boundary conditions\n",
    "Tcc = lambda x, y, z: x*x + y*y + z*z"
   ]
  },
  {
   "cell_type": "code",
   "execution_count": 14,
   "metadata": {},
   "outputs": [
    {
     "name": "stderr",
     "output_type": "stream",
     "text": [
      "100%|██████████| 4322/4322 [00:00<00:00, 34644.72it/s]\n"
     ]
    }
   ],
   "source": [
    "for i in tqdm(cc):\n",
    "    A[i,:] = 0.0\n",
    "    A[i,i] = 1\n",
    "    b[i] = Tcc(X[i], Y[i], Z[i])"
   ]
  },
  {
   "cell_type": "code",
   "execution_count": 15,
   "metadata": {},
   "outputs": [],
   "source": [
    "A_inv = np.linalg.inv(A)"
   ]
  },
  {
   "cell_type": "code",
   "execution_count": 16,
   "metadata": {},
   "outputs": [],
   "source": [
    "T_vec = A_inv@b"
   ]
  },
  {
   "cell_type": "code",
   "execution_count": 19,
   "metadata": {},
   "outputs": [
    {
     "name": "stdout",
     "output_type": "stream",
     "text": [
      "O erro quadrático médio é: 8.346e-04\n",
      "O erro absoluto médio é: 1.531e-04\n",
      "O erro máximo é: 5.037e-03\n"
     ]
    }
   ],
   "source": [
    "error = T_vec - Tcc(X, Y, Z)\n",
    "\n",
    "SRME = np.sqrt(sum(error**2)/(Npoints))\n",
    "MAE = sum(error)/(Npoints)\n",
    "Max  = max(error)\n",
    "\n",
    "print('O erro quadrático médio é: %.3e' % (SRME))\n",
    "print('O erro absoluto médio é: %.3e' % (MAE))\n",
    "print('O erro máximo é: %.3e' % (Max))"
   ]
  }
 ],
 "metadata": {
  "kernelspec": {
   "display_name": "base",
   "language": "python",
   "name": "python3"
  },
  "language_info": {
   "codemirror_mode": {
    "name": "ipython",
    "version": 3
   },
   "file_extension": ".py",
   "mimetype": "text/x-python",
   "name": "python",
   "nbconvert_exporter": "python",
   "pygments_lexer": "ipython3",
   "version": "3.10.10"
  },
  "orig_nbformat": 4
 },
 "nbformat": 4,
 "nbformat_minor": 2
}
